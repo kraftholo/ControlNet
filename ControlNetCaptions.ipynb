{
 "cells": [
  {
   "cell_type": "code",
   "execution_count": null,
   "metadata": {},
   "outputs": [],
   "source": [
    "from tqdm import tqdm\n",
    "import json\n",
    "import os\n",
    "from configurationLoader import returnRepoConfig\n",
    "repoConfig = returnRepoConfig(\"control_net_cfg.yaml\")"
   ]
  },
  {
   "cell_type": "code",
   "execution_count": null,
   "metadata": {},
   "outputs": [],
   "source": [
    "def read_json_file(json_file_path):\n",
    "    with open(json_file_path, 'r') as file:\n",
    "        data = json.load(file)\n",
    "    return data "
   ]
  },
  {
   "cell_type": "code",
   "execution_count": null,
   "metadata": {},
   "outputs": [],
   "source": [
    "imgInputDirRoot = repoConfig.controlNetCaptions.img_dir\n",
    "inputImgDir = os.path.join(imgInputDirRoot, repoConfig.filePaths.img_sub_dir)\n",
    "segmentedDir = os.path.join(imgInputDirRoot, repoConfig.filePaths.mask_sub_dir)\n",
    "\n",
    "outputPath = repoConfig.controlNetCaptions.captions_output\n",
    "\n",
    "controlNetInput = read_json_file(repoConfig.controlNetCaptions.instdiffinput_path)\n",
    "print(f'Num of images in controlNetInput (instDiffInput): {len(controlNetInput)}')"
   ]
  },
  {
   "cell_type": "code",
   "execution_count": null,
   "metadata": {},
   "outputs": [],
   "source": [
    "controlNetCaptions = []\n",
    "\n",
    "counter = 0\n",
    "for img_name,data in tqdm(controlNetInput.items()):\n",
    "\n",
    "    # if counter == 10:\n",
    "    #     break\n",
    "\n",
    "    img_path = f\"{inputImgDir}\\\\{img_name}\"\n",
    "    output_img_path = f\"{segmentedDir}\\\\{img_name}\"\n",
    "\n",
    "    img_caption = \"Chicken with\"\n",
    "\n",
    "    for caption in data['captions']:\n",
    "        if caption.startswith('GT_'):\n",
    "            img_caption += f\" {caption.split(' ')[0]}:{caption.split(' ')[1]}\"\n",
    "\n",
    "    \n",
    "    # save the caption\n",
    "    # source: segmented image, target: original image\n",
    "    controlNetCaptions.append({\n",
    "                        \"source\": output_img_path.replace(\"\\\\\", \"/\"),\n",
    "                        \"target\": img_path.replace(\"\\\\\", \"/\"),\n",
    "                        \"prompt\": img_caption\n",
    "                    })\n",
    "    counter += 1\n",
    "\n",
    "with open(outputPath, 'w') as f:\n",
    "    json.dump(controlNetCaptions, f, indent=4)"
   ]
  }
 ],
 "metadata": {
  "kernelspec": {
   "display_name": "Python 3",
   "language": "python",
   "name": "python3"
  },
  "language_info": {
   "codemirror_mode": {
    "name": "ipython",
    "version": 3
   },
   "file_extension": ".py",
   "mimetype": "text/x-python",
   "name": "python",
   "nbconvert_exporter": "python",
   "pygments_lexer": "ipython3",
   "version": "3.9.19"
  }
 },
 "nbformat": 4,
 "nbformat_minor": 2
}
