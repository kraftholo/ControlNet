{
 "cells": [
  {
   "cell_type": "code",
   "execution_count": 10,
   "metadata": {},
   "outputs": [],
   "source": [
    "from tqdm import tqdm\n",
    "import json\n",
    "import os\n"
   ]
  },
  {
   "cell_type": "code",
   "execution_count": 11,
   "metadata": {},
   "outputs": [],
   "source": [
    "def read_json_file(json_file_path):\n",
    "    with open(json_file_path, 'r') as file:\n",
    "        data = json.load(file)\n",
    "    return data "
   ]
  },
  {
   "cell_type": "code",
   "execution_count": 12,
   "metadata": {},
   "outputs": [
    {
     "name": "stdout",
     "output_type": "stream",
     "text": [
      "Num of images in controlNetInput (instDiffInput): 139360\n"
     ]
    }
   ],
   "source": [
    "imgInputDirRoot = r\"E:\\thesis\\datasets\\all-train-images-512-front-paste-augmented\"\n",
    "inputImgDir = f'{imgInputDirRoot}\\\\images'\n",
    "segmentedDir = f'{imgInputDirRoot}\\\\segmented'\n",
    "\n",
    "outputPath = r\"E:\\thesis\\repos\\ControlNet\\control_net_captions.json\"\n",
    "\n",
    "controlNetInput = read_json_file(r\"E:\\thesis\\datasets\\instDiffInput__pasteAnnotationFromPlan.json\")\n",
    "print(f'Num of images in controlNetInput (instDiffInput): {len(controlNetInput)}')"
   ]
  },
  {
   "cell_type": "code",
   "execution_count": 13,
   "metadata": {},
   "outputs": [
    {
     "name": "stderr",
     "output_type": "stream",
     "text": [
      "100%|██████████| 139360/139360 [00:00<00:00, 279152.48it/s]\n"
     ]
    }
   ],
   "source": [
    "controlNetCaptions = []\n",
    "\n",
    "counter = 0\n",
    "for img_name,data in tqdm(controlNetInput.items()):\n",
    "\n",
    "    # if counter == 10:\n",
    "    #     break\n",
    "\n",
    "    img_path = f\"{inputImgDir}\\\\{img_name}\"\n",
    "    output_img_path = f\"{segmentedDir}\\\\{img_name}\"\n",
    "\n",
    "    img_caption = \"Chicken with\"\n",
    "\n",
    "    for caption in data['captions']:\n",
    "        if caption.startswith('GT_'):\n",
    "            img_caption += f\" {caption.split(' ')[0]}:{caption.split(' ')[1]}\"\n",
    "\n",
    "    \n",
    "    # save the caption\n",
    "    # source: segmented image, target: original image\n",
    "    controlNetCaptions.append({\n",
    "                        \"source\": output_img_path.replace(\"\\\\\", \"/\"),\n",
    "                        \"target\": img_path.replace(\"\\\\\", \"/\"),\n",
    "                        \"prompt\": img_caption\n",
    "                    })\n",
    "    counter += 1\n",
    "\n",
    "with open(outputPath, 'w') as f:\n",
    "    json.dump(controlNetCaptions, f, indent=4)"
   ]
  }
 ],
 "metadata": {
  "kernelspec": {
   "display_name": "Python 3",
   "language": "python",
   "name": "python3"
  },
  "language_info": {
   "codemirror_mode": {
    "name": "ipython",
    "version": 3
   },
   "file_extension": ".py",
   "mimetype": "text/x-python",
   "name": "python",
   "nbconvert_exporter": "python",
   "pygments_lexer": "ipython3",
   "version": "3.8.18"
  }
 },
 "nbformat": 4,
 "nbformat_minor": 2
}
